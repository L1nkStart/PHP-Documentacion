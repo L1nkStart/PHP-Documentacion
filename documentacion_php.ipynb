{
 "cells": [
  {
   "cell_type": "markdown",
   "metadata": {},
   "source": [
    "# Documentación Completa de PHP 7.2\n",
    "\n",
    "Esta documentación interactiva cubre todos los conceptos básicos de PHP 7.2 ejecutándose en Jupyter Notebook.\n",
    "\n",
    "**Configuración actual:**\n",
    "- PHP 7.2.34 Thread Safe\n",
    "- Extensión ZMQ habilitada\n",
    "- Entorno XAMPP configurado\n",
    "\n",
    "---"
   ]
  },
  {
   "cell_type": "markdown",
   "metadata": {},
   "source": [
    "## 1. Información del Sistema PHP\n",
    "\n",
    "Comencemos verificando nuestra instalación de PHP y sus características:"
   ]
  },
  {
   "cell_type": "code",
   "execution_count": 1,
   "metadata": {},
   "outputs": [
    {
     "data": {
      "text/plain": [
       "=== INFORMACIÓN DEL SISTEMA PHP ===\n",
       "\n"
      ]
     },
     "execution_count": 1,
     "metadata": {},
     "output_type": "execute_result"
    },
    {
     "data": {
      "text/plain": [
       "Versión de PHP: 7.2.34\n",
       "\n"
      ]
     },
     "execution_count": 1,
     "metadata": {},
     "output_type": "execute_result"
    },
    {
     "data": {
      "text/plain": [
       "Sistema Operativo: WINNT\n",
       "\n"
      ]
     },
     "execution_count": 1,
     "metadata": {},
     "output_type": "execute_result"
    },
    {
     "data": {
      "text/plain": [
       "Thread Safety: Habilitado\n",
       "\n"
      ]
     },
     "execution_count": 1,
     "metadata": {},
     "output_type": "execute_result"
    },
    {
     "data": {
      "text/plain": [
       "Extensión ZMQ: Cargada\n",
       "\n"
      ]
     },
     "execution_count": 1,
     "metadata": {},
     "output_type": "execute_result"
    },
    {
     "data": {
      "text/plain": [
       "Memoria máxima: 128M\n",
       "\n"
      ]
     },
     "execution_count": 1,
     "metadata": {},
     "output_type": "execute_result"
    },
    {
     "data": {
      "text/plain": [
       "Zona horaria: UTC\n",
       "\n"
      ]
     },
     "execution_count": 1,
     "metadata": {},
     "output_type": "execute_result"
    },
    {
     "data": {
      "text/plain": [
       "Fecha actual: 2025-10-25 23:45:46\n",
       "\n"
      ]
     },
     "execution_count": 1,
     "metadata": {},
     "output_type": "execute_result"
    }
   ],
   "source": [
    "\n",
    "echo \"=== INFORMACIÓN DEL SISTEMA PHP ===\\n\";\n",
    "echo \"Versión de PHP: \" . PHP_VERSION . \"\\n\";\n",
    "echo \"Sistema Operativo: \" . PHP_OS . \"\\n\";\n",
    "echo \"Thread Safety: \" . (ZEND_THREAD_SAFE ? 'Habilitado' : 'Deshabilitado') . \"\\n\";\n",
    "echo \"Extensión ZMQ: \" . (extension_loaded('zmq') ? 'Cargada' : 'No disponible') . \"\\n\";\n",
    "echo \"Memoria máxima: \" . ini_get('memory_limit') . \"\\n\";\n",
    "echo \"Zona horaria: \" . date_default_timezone_get() . \"\\n\";\n",
    "echo \"Fecha actual: \" . date('Y-m-d H:i:s') . \"\\n\";"
   ]
  },
  {
   "cell_type": "markdown",
   "metadata": {},
   "source": [
    "## 2. Variables y Tipos de Datos\n",
    "\n",
    "PHP es un lenguaje dinámicamente tipado. Las variables se declaran con el símbolo `$`."
   ]
  },
  {
   "cell_type": "code",
   "execution_count": 2,
   "metadata": {},
   "outputs": [
    {
     "data": {
      "text/plain": [
       "=== TIPOS DE DATOS EN PHP ===\n",
       "\n"
      ]
     },
     "execution_count": 2,
     "metadata": {},
     "output_type": "execute_result"
    },
    {
     "data": {
      "text/plain": [
       "Nombre: Juan Pérez (string)\n",
       "\n"
      ]
     },
     "execution_count": 2,
     "metadata": {},
     "output_type": "execute_result"
    },
    {
     "data": {
      "text/plain": [
       "Edad: 25 (integer)\n",
       "\n"
      ]
     },
     "execution_count": 2,
     "metadata": {},
     "output_type": "execute_result"
    },
    {
     "data": {
      "text/plain": [
       "Altura: 1.75 (double)\n",
       "\n"
      ]
     },
     "execution_count": 2,
     "metadata": {},
     "output_type": "execute_result"
    },
    {
     "data": {
      "text/plain": [
       "Es estudiante: Sí (boolean)\n",
       "\n"
      ]
     },
     "execution_count": 2,
     "metadata": {},
     "output_type": "execute_result"
    },
    {
     "data": {
      "text/plain": [
       "Teléfono: NULL (NULL)\n",
       "\n"
      ]
     },
     "execution_count": 2,
     "metadata": {},
     "output_type": "execute_result"
    },
    {
     "data": {
      "text/plain": [
       "\n",
       "Nombre completo: Juan Pérez García\n",
       "\n"
      ]
     },
     "execution_count": 2,
     "metadata": {},
     "output_type": "execute_result"
    }
   ],
   "source": [
    "\n",
    "echo \"=== TIPOS DE DATOS EN PHP ===\\n\";\n",
    "\n",
    "// String\n",
    "$nombre = \"Juan Pérez\";\n",
    "$apellido = 'García';\n",
    "\n",
    "// Integer\n",
    "$edad = 25;\n",
    "$año = 2024;\n",
    "\n",
    "// Float\n",
    "$altura = 1.75;\n",
    "$peso = 70.5;\n",
    "\n",
    "// Boolean\n",
    "$esEstudiante = true;\n",
    "$tieneTrabaajo = false;\n",
    "\n",
    "// NULL\n",
    "$telefono = null;\n",
    "\n",
    "// Mostrando tipos y valores\n",
    "echo \"Nombre: $nombre (\" . gettype($nombre) . \")\\n\";\n",
    "echo \"Edad: $edad (\" . gettype($edad) . \")\\n\";\n",
    "echo \"Altura: $altura (\" . gettype($altura) . \")\\n\";\n",
    "echo \"Es estudiante: \" . ($esEstudiante ? 'Sí' : 'No') . \" (\" . gettype($esEstudiante) . \")\\n\";\n",
    "echo \"Teléfono: \" . var_export($telefono, true) . \" (\" . gettype($telefono) . \")\\n\";\n",
    "\n",
    "// Concatenación de strings\n",
    "$nombreCompleto = $nombre . \" \" . $apellido;\n",
    "echo \"\\nNombre completo: $nombreCompleto\\n\";"
   ]
  },
  {
   "cell_type": "markdown",
   "metadata": {},
   "source": [
    "## 3. Constantes\n",
    "\n",
    "Las constantes son valores que no pueden cambiar durante la ejecución del script."
   ]
  },
  {
   "cell_type": "code",
   "execution_count": 3,
   "metadata": {},
   "outputs": [
    {
     "data": {
      "text/plain": [
       "=== CONSTANTES ===\n",
       "\n"
      ]
     },
     "execution_count": 3,
     "metadata": {},
     "output_type": "execute_result"
    },
    {
     "data": {
      "text/plain": [
       "Sitio: Mi Sitio Web\n",
       "\n"
      ]
     },
     "execution_count": 3,
     "metadata": {},
     "output_type": "execute_result"
    },
    {
     "data": {
      "text/plain": [
       "Versión: 1.0.0\n",
       "\n"
      ]
     },
     "execution_count": 3,
     "metadata": {},
     "output_type": "execute_result"
    },
    {
     "data": {
      "text/plain": [
       "Pi: 3.14159\n",
       "\n"
      ]
     },
     "execution_count": 3,
     "metadata": {},
     "output_type": "execute_result"
    },
    {
     "data": {
      "text/plain": [
       "Saludo: Hola Mundo\n",
       "\n"
      ]
     },
     "execution_count": 3,
     "metadata": {},
     "output_type": "execute_result"
    },
    {
     "data": {
      "text/plain": [
       "\n",
       "=== CONSTANTES MÁGICAS ===\n",
       "\n"
      ]
     },
     "execution_count": 3,
     "metadata": {},
     "output_type": "execute_result"
    },
    {
     "data": {
      "text/plain": [
       "Línea actual: 14\n",
       "\n"
      ]
     },
     "execution_count": 3,
     "metadata": {},
     "output_type": "execute_result"
    },
    {
     "data": {
      "text/plain": [
       "Archivo actual: \n",
       "\n"
      ]
     },
     "execution_count": 3,
     "metadata": {},
     "output_type": "execute_result"
    },
    {
     "data": {
      "text/plain": [
       "Directorio: C:\\Users\\eduar\\Documents\\luenguaje\\php\\documentacion\n",
       "\n"
      ]
     },
     "execution_count": 3,
     "metadata": {},
     "output_type": "execute_result"
    },
    {
     "data": {
      "text/plain": [
       "Versión PHP: 7.2.34\n",
       "\n"
      ]
     },
     "execution_count": 3,
     "metadata": {},
     "output_type": "execute_result"
    }
   ],
   "source": [
    "\n",
    "echo \"=== CONSTANTES ===\\n\";\n",
    "\n",
    "// Definir constantes\n",
    "define('NOMBRE_SITIO', 'Mi Sitio Web');\n",
    "define('VERSION', '1.0.0');\n",
    "define('PI', 3.14159);\n",
    "\n",
    "// Constantes de clase (PHP 5.3+)\n",
    "const SALUDO = 'Hola Mundo';\n",
    "\n",
    "echo \"Sitio: \" . NOMBRE_SITIO . \"\\n\";\n",
    "echo \"Versión: \" . VERSION . \"\\n\";\n",
    "echo \"Pi: \" . PI . \"\\n\";\n",
    "echo \"Saludo: \" . SALUDO . \"\\n\";\n",
    "\n",
    "// Constantes mágicas\n",
    "echo \"\\n=== CONSTANTES MÁGICAS ===\\n\";\n",
    "echo \"Línea actual: \" . __LINE__ . \"\\n\";\n",
    "echo \"Archivo actual: \" . basename(__FILE__) . \"\\n\";\n",
    "echo \"Directorio: \" . __DIR__ . \"\\n\";\n",
    "echo \"Versión PHP: \" . PHP_VERSION . \"\\n\";"
   ]
  },
  {
   "cell_type": "markdown",
   "metadata": {},
   "source": [
    "## 4. Operadores\n",
    "\n",
    "PHP soporta diversos tipos de operadores para realizar operaciones."
   ]
  },
  {
   "cell_type": "code",
   "execution_count": 4,
   "metadata": {},
   "outputs": [
    {
     "data": {
      "text/plain": [
       "=== OPERADORES ARITMÉTICOS ===\n",
       "\n"
      ]
     },
     "execution_count": 4,
     "metadata": {},
     "output_type": "execute_result"
    },
    {
     "data": {
      "text/plain": [
       "a = 10, b = 3\n",
       "\n"
      ]
     },
     "execution_count": 4,
     "metadata": {},
     "output_type": "execute_result"
    },
    {
     "data": {
      "text/plain": [
       "Suma: 10 + 3 = 13\n",
       "\n"
      ]
     },
     "execution_count": 4,
     "metadata": {},
     "output_type": "execute_result"
    },
    {
     "data": {
      "text/plain": [
       "Resta: 10 - 3 = 7\n",
       "\n"
      ]
     },
     "execution_count": 4,
     "metadata": {},
     "output_type": "execute_result"
    },
    {
     "data": {
      "text/plain": [
       "Multiplicación: 10 * 3 = 30\n",
       "\n"
      ]
     },
     "execution_count": 4,
     "metadata": {},
     "output_type": "execute_result"
    },
    {
     "data": {
      "text/plain": [
       "División: 10 / 3 = 3.3333333333333\n",
       "\n"
      ]
     },
     "execution_count": 4,
     "metadata": {},
     "output_type": "execute_result"
    },
    {
     "data": {
      "text/plain": [
       "Módulo: 10 % 3 = 1\n",
       "\n"
      ]
     },
     "execution_count": 4,
     "metadata": {},
     "output_type": "execute_result"
    },
    {
     "data": {
      "text/plain": [
       "Exponencial: 10 ** 2 = 100\n",
       "\n"
      ]
     },
     "execution_count": 4,
     "metadata": {},
     "output_type": "execute_result"
    },
    {
     "data": {
      "text/plain": [
       "\n",
       "=== OPERADORES DE COMPARACIÓN ===\n",
       "\n"
      ]
     },
     "execution_count": 4,
     "metadata": {},
     "output_type": "execute_result"
    },
    {
     "data": {
      "text/plain": [
       "10 == 3: false\n",
       "\n"
      ]
     },
     "execution_count": 4,
     "metadata": {},
     "output_type": "execute_result"
    },
    {
     "data": {
      "text/plain": [
       "10 != 3: true\n",
       "\n"
      ]
     },
     "execution_count": 4,
     "metadata": {},
     "output_type": "execute_result"
    },
    {
     "data": {
      "text/plain": [
       "10 > 3: true\n",
       "\n"
      ]
     },
     "execution_count": 4,
     "metadata": {},
     "output_type": "execute_result"
    },
    {
     "data": {
      "text/plain": [
       "10 < 3: false\n",
       "\n"
      ]
     },
     "execution_count": 4,
     "metadata": {},
     "output_type": "execute_result"
    },
    {
     "data": {
      "text/plain": [
       "10 >= 3: true\n",
       "\n"
      ]
     },
     "execution_count": 4,
     "metadata": {},
     "output_type": "execute_result"
    },
    {
     "data": {
      "text/plain": [
       "10 <= 3: false\n",
       "\n"
      ]
     },
     "execution_count": 4,
     "metadata": {},
     "output_type": "execute_result"
    },
    {
     "data": {
      "text/plain": [
       "\n",
       "=== OPERADORES LÓGICOS ===\n",
       "\n"
      ]
     },
     "execution_count": 4,
     "metadata": {},
     "output_type": "execute_result"
    },
    {
     "data": {
      "text/plain": [
       "x = true, y = false\n",
       "\n"
      ]
     },
     "execution_count": 4,
     "metadata": {},
     "output_type": "execute_result"
    },
    {
     "data": {
      "text/plain": [
       "x AND y: false\n",
       "\n"
      ]
     },
     "execution_count": 4,
     "metadata": {},
     "output_type": "execute_result"
    },
    {
     "data": {
      "text/plain": [
       "x OR y: true\n",
       "\n"
      ]
     },
     "execution_count": 4,
     "metadata": {},
     "output_type": "execute_result"
    },
    {
     "data": {
      "text/plain": [
       "NOT x: false\n",
       "\n"
      ]
     },
     "execution_count": 4,
     "metadata": {},
     "output_type": "execute_result"
    }
   ],
   "source": [
    "\n",
    "echo \"=== OPERADORES ARITMÉTICOS ===\\n\";\n",
    "$a = 10;\n",
    "$b = 3;\n",
    "\n",
    "echo \"a = $a, b = $b\\n\";\n",
    "echo \"Suma: $a + $b = \" . ($a + $b) . \"\\n\";\n",
    "echo \"Resta: $a - $b = \" . ($a - $b) . \"\\n\";\n",
    "echo \"Multiplicación: $a * $b = \" . ($a * $b) . \"\\n\";\n",
    "echo \"División: $a / $b = \" . ($a / $b) . \"\\n\";\n",
    "echo \"Módulo: $a % $b = \" . ($a % $b) . \"\\n\";\n",
    "echo \"Exponencial: $a ** 2 = \" . ($a ** 2) . \"\\n\";\n",
    "\n",
    "echo \"\\n=== OPERADORES DE COMPARACIÓN ===\\n\";\n",
    "echo \"$a == $b: \" . ($a == $b ? 'true' : 'false') . \"\\n\";\n",
    "echo \"$a != $b: \" . ($a != $b ? 'true' : 'false') . \"\\n\";\n",
    "echo \"$a > $b: \" . ($a > $b ? 'true' : 'false') . \"\\n\";\n",
    "echo \"$a < $b: \" . ($a < $b ? 'true' : 'false') . \"\\n\";\n",
    "echo \"$a >= $b: \" . ($a >= $b ? 'true' : 'false') . \"\\n\";\n",
    "echo \"$a <= $b: \" . ($a <= $b ? 'true' : 'false') . \"\\n\";\n",
    "\n",
    "echo \"\\n=== OPERADORES LÓGICOS ===\\n\";\n",
    "$x = true;\n",
    "$y = false;\n",
    "\n",
    "echo \"x = true, y = false\\n\";\n",
    "echo \"x AND y: \" . ($x && $y ? 'true' : 'false') . \"\\n\";\n",
    "echo \"x OR y: \" . ($x || $y ? 'true' : 'false') . \"\\n\";\n",
    "echo \"NOT x: \" . (!$x ? 'true' : 'false') . \"\\n\";"
   ]
  },
  {
   "cell_type": "markdown",
   "metadata": {},
   "source": [
    "## 5. Estructuras de Control\n",
    "\n",
    "### If/Else/ElseIf"
   ]
  },
  {
   "cell_type": "code",
   "execution_count": 5,
   "metadata": {},
   "outputs": [
    {
     "data": {
      "text/plain": [
       "=== ESTRUCTURAS IF/ELSE ===\n",
       "\n"
      ]
     },
     "execution_count": 5,
     "metadata": {},
     "output_type": "execute_result"
    },
    {
     "data": {
      "text/plain": [
       "Nota: 85 - Calificación: Muy Bueno\n",
       "\n"
      ]
     },
     "execution_count": 5,
     "metadata": {},
     "output_type": "execute_result"
    },
    {
     "data": {
      "text/plain": [
       "Edad: 20 - Status: Adulto\n",
       "\n"
      ]
     },
     "execution_count": 5,
     "metadata": {},
     "output_type": "execute_result"
    },
    {
     "data": {
      "text/plain": [
       "Usuario: Invitado\n",
       "\n"
      ]
     },
     "execution_count": 5,
     "metadata": {},
     "output_type": "execute_result"
    }
   ],
   "source": [
    "\n",
    "echo \"=== ESTRUCTURAS IF/ELSE ===\\n\";\n",
    "\n",
    "$nota = 85;\n",
    "\n",
    "if ($nota >= 90) {\n",
    "    $calificacion = \"Excelente\";\n",
    "} elseif ($nota >= 80) {\n",
    "    $calificacion = \"Muy Bueno\";\n",
    "} elseif ($nota >= 70) {\n",
    "    $calificacion = \"Bueno\";\n",
    "} elseif ($nota >= 60) {\n",
    "    $calificacion = \"Regular\";\n",
    "} else {\n",
    "    $calificacion = \"Insuficiente\";\n",
    "}\n",
    "\n",
    "echo \"Nota: $nota - Calificación: $calificacion\\n\";\n",
    "\n",
    "// Operador ternario\n",
    "$edad = 20;\n",
    "$status = ($edad >= 18) ? \"Adulto\" : \"Menor\";\n",
    "echo \"Edad: $edad - Status: $status\\n\";\n",
    "\n",
    "// Operador null coalescing (PHP 7+)\n",
    "$usuario = null;\n",
    "$nombreUsuario = $usuario ?? \"Invitado\";\n",
    "echo \"Usuario: $nombreUsuario\\n\";"
   ]
  },
  {
   "cell_type": "markdown",
   "metadata": {},
   "source": [
    "### Switch"
   ]
  },
  {
   "cell_type": "code",
   "execution_count": 6,
   "metadata": {},
   "outputs": [
    {
     "data": {
      "text/plain": [
       "=== ESTRUCTURA SWITCH ===\n",
       "\n"
      ]
     },
     "execution_count": 6,
     "metadata": {},
     "output_type": "execute_result"
    },
    {
     "data": {
      "text/plain": [
       "Hoy es Sábado (día 6 de la semana)\n",
       "\n"
      ]
     },
     "execution_count": 6,
     "metadata": {},
     "output_type": "execute_result"
    },
    {
     "data": {
      "text/plain": [
       "Es el número 2\n",
       "\n"
      ]
     },
     "execution_count": 6,
     "metadata": {},
     "output_type": "execute_result"
    }
   ],
   "source": [
    "\n",
    "echo \"=== ESTRUCTURA SWITCH ===\\n\";\n",
    "\n",
    "$dia = date('N'); // 1 (lunes) a 7 (domingo)\n",
    "\n",
    "switch ($dia) {\n",
    "    case 1:\n",
    "        $nombreDia = \"Lunes\";\n",
    "        break;\n",
    "    case 2:\n",
    "        $nombreDia = \"Martes\";\n",
    "        break;\n",
    "    case 3:\n",
    "        $nombreDia = \"Miércoles\";\n",
    "        break;\n",
    "    case 4:\n",
    "        $nombreDia = \"Jueves\";\n",
    "        break;\n",
    "    case 5:\n",
    "        $nombreDia = \"Viernes\";\n",
    "        break;\n",
    "    case 6:\n",
    "    case 7:\n",
    "        $nombreDia = ($dia == 6) ? \"Sábado\" : \"Domingo\";\n",
    "        break;\n",
    "    default:\n",
    "        $nombreDia = \"Día inválido\";\n",
    "}\n",
    "\n",
    "echo \"Hoy es $nombreDia (día $dia de la semana)\\n\";\n",
    "\n",
    "// Switch con diferentes tipos\n",
    "$valor = \"2\";\n",
    "switch ($valor) {\n",
    "    case 2:\n",
    "        echo \"Es el número 2\\n\";\n",
    "        break;\n",
    "    case \"2\":\n",
    "        echo \"Es la cadena '2'\\n\";\n",
    "        break;\n",
    "    default:\n",
    "        echo \"Es otra cosa\\n\";\n",
    "}"
   ]
  },
  {
   "cell_type": "markdown",
   "metadata": {},
   "source": [
    "## 6. Bucles (Loops)\n",
    "\n",
    "PHP ofrece varios tipos de bucles para iterar."
   ]
  },
  {
   "cell_type": "code",
   "execution_count": 7,
   "metadata": {},
   "outputs": [
    {
     "data": {
      "text/plain": [
       "=== BUCLE FOR ===\n",
       "\n"
      ]
     },
     "execution_count": 7,
     "metadata": {},
     "output_type": "execute_result"
    },
    {
     "data": {
      "text/plain": [
       "Iteración 1\n",
       "\n"
      ]
     },
     "execution_count": 7,
     "metadata": {},
     "output_type": "execute_result"
    },
    {
     "data": {
      "text/plain": [
       "Iteración 2\n",
       "\n"
      ]
     },
     "execution_count": 7,
     "metadata": {},
     "output_type": "execute_result"
    },
    {
     "data": {
      "text/plain": [
       "Iteración 3\n",
       "\n"
      ]
     },
     "execution_count": 7,
     "metadata": {},
     "output_type": "execute_result"
    },
    {
     "data": {
      "text/plain": [
       "Iteración 4\n",
       "\n"
      ]
     },
     "execution_count": 7,
     "metadata": {},
     "output_type": "execute_result"
    },
    {
     "data": {
      "text/plain": [
       "Iteración 5\n",
       "\n"
      ]
     },
     "execution_count": 7,
     "metadata": {},
     "output_type": "execute_result"
    },
    {
     "data": {
      "text/plain": [
       "\n",
       "=== BUCLE WHILE ===\n",
       "\n"
      ]
     },
     "execution_count": 7,
     "metadata": {},
     "output_type": "execute_result"
    },
    {
     "data": {
      "text/plain": [
       "Contador: 1\n",
       "\n"
      ]
     },
     "execution_count": 7,
     "metadata": {},
     "output_type": "execute_result"
    },
    {
     "data": {
      "text/plain": [
       "Contador: 2\n",
       "\n"
      ]
     },
     "execution_count": 7,
     "metadata": {},
     "output_type": "execute_result"
    },
    {
     "data": {
      "text/plain": [
       "Contador: 3\n",
       "\n"
      ]
     },
     "execution_count": 7,
     "metadata": {},
     "output_type": "execute_result"
    },
    {
     "data": {
      "text/plain": [
       "\n",
       "=== BUCLE DO-WHILE ===\n",
       "\n"
      ]
     },
     "execution_count": 7,
     "metadata": {},
     "output_type": "execute_result"
    },
    {
     "data": {
      "text/plain": [
       "Número: 1\n",
       "\n"
      ]
     },
     "execution_count": 7,
     "metadata": {},
     "output_type": "execute_result"
    },
    {
     "data": {
      "text/plain": [
       "Número: 2\n",
       "\n"
      ]
     },
     "execution_count": 7,
     "metadata": {},
     "output_type": "execute_result"
    },
    {
     "data": {
      "text/plain": [
       "Número: 3\n",
       "\n"
      ]
     },
     "execution_count": 7,
     "metadata": {},
     "output_type": "execute_result"
    },
    {
     "data": {
      "text/plain": [
       "\n",
       "=== BUCLE FOREACH (con array) ===\n",
       "\n"
      ]
     },
     "execution_count": 7,
     "metadata": {},
     "output_type": "execute_result"
    },
    {
     "data": {
      "text/plain": [
       "Color [0]: rojo\n",
       "\n"
      ]
     },
     "execution_count": 7,
     "metadata": {},
     "output_type": "execute_result"
    },
    {
     "data": {
      "text/plain": [
       "Color [1]: verde\n",
       "\n"
      ]
     },
     "execution_count": 7,
     "metadata": {},
     "output_type": "execute_result"
    },
    {
     "data": {
      "text/plain": [
       "Color [2]: azul\n",
       "\n"
      ]
     },
     "execution_count": 7,
     "metadata": {},
     "output_type": "execute_result"
    },
    {
     "data": {
      "text/plain": [
       "Color [3]: amarillo\n",
       "\n"
      ]
     },
     "execution_count": 7,
     "metadata": {},
     "output_type": "execute_result"
    },
    {
     "data": {
      "text/plain": [
       "\n",
       "=== BUCLE FOREACH (array asociativo) ===\n",
       "\n"
      ]
     },
     "execution_count": 7,
     "metadata": {},
     "output_type": "execute_result"
    },
    {
     "data": {
      "text/plain": [
       "nombre: Ana\n",
       "\n"
      ]
     },
     "execution_count": 7,
     "metadata": {},
     "output_type": "execute_result"
    },
    {
     "data": {
      "text/plain": [
       "edad: 28\n",
       "\n"
      ]
     },
     "execution_count": 7,
     "metadata": {},
     "output_type": "execute_result"
    },
    {
     "data": {
      "text/plain": [
       "ciudad: Madrid\n",
       "\n"
      ]
     },
     "execution_count": 7,
     "metadata": {},
     "output_type": "execute_result"
    },
    {
     "data": {
      "text/plain": [
       "profesion: Desarrolladora\n",
       "\n"
      ]
     },
     "execution_count": 7,
     "metadata": {},
     "output_type": "execute_result"
    }
   ],
   "source": [
    "\n",
    "echo \"=== BUCLE FOR ===\\n\";\n",
    "for ($i = 1; $i <= 5; $i++) {\n",
    "    echo \"Iteración $i\\n\";\n",
    "}\n",
    "\n",
    "echo \"\\n=== BUCLE WHILE ===\\n\";\n",
    "$contador = 1;\n",
    "while ($contador <= 3) {\n",
    "    echo \"Contador: $contador\\n\";\n",
    "    $contador++;\n",
    "}\n",
    "\n",
    "echo \"\\n=== BUCLE DO-WHILE ===\\n\";\n",
    "$numero = 1;\n",
    "do {\n",
    "    echo \"Número: $numero\\n\";\n",
    "    $numero++;\n",
    "} while ($numero <= 3);\n",
    "\n",
    "echo \"\\n=== BUCLE FOREACH (con array) ===\\n\";\n",
    "$colores = [\"rojo\", \"verde\", \"azul\", \"amarillo\"];\n",
    "\n",
    "foreach ($colores as $indice => $color) {\n",
    "    echo \"Color [$indice]: $color\\n\";\n",
    "}\n",
    "\n",
    "echo \"\\n=== BUCLE FOREACH (array asociativo) ===\\n\";\n",
    "$persona = [\n",
    "    \"nombre\" => \"Ana\",\n",
    "    \"edad\" => 28,\n",
    "    \"ciudad\" => \"Madrid\",\n",
    "    \"profesion\" => \"Desarrolladora\"\n",
    "];\n",
    "\n",
    "foreach ($persona as $clave => $valor) {\n",
    "    echo \"$clave: $valor\\n\";\n",
    "}"
   ]
  },
  {
   "cell_type": "markdown",
   "metadata": {},
   "source": [
    "## 7. Arrays (Arreglos)\n",
    "\n",
    "Los arrays son una de las estructuras de datos más importantes en PHP."
   ]
  },
  {
   "cell_type": "code",
   "execution_count": 8,
   "metadata": {},
   "outputs": [
    {
     "data": {
      "text/plain": [
       "=== ARRAYS INDEXADOS ===\n",
       "\n"
      ]
     },
     "execution_count": 8,
     "metadata": {},
     "output_type": "execute_result"
    },
    {
     "data": {
      "text/plain": [
       "Frutas: manzana, banana, naranja\n",
       "\n"
      ]
     },
     "execution_count": 8,
     "metadata": {},
     "output_type": "execute_result"
    },
    {
     "data": {
      "text/plain": [
       "Números: 1, 2, 3, 4, 5\n",
       "\n"
      ]
     },
     "execution_count": 8,
     "metadata": {},
     "output_type": "execute_result"
    },
    {
     "data": {
      "text/plain": [
       "Primer número: 1\n",
       "\n"
      ]
     },
     "execution_count": 8,
     "metadata": {},
     "output_type": "execute_result"
    },
    {
     "data": {
      "text/plain": [
       "Último número: 5\n",
       "\n"
      ]
     },
     "execution_count": 8,
     "metadata": {},
     "output_type": "execute_result"
    },
    {
     "data": {
      "text/plain": [
       "Frutas después de agregar: manzana, banana, naranja, uva, mango, piña\n",
       "\n"
      ]
     },
     "execution_count": 8,
     "metadata": {},
     "output_type": "execute_result"
    },
    {
     "data": {
      "text/plain": [
       "\n",
       "=== ARRAYS ASOCIATIVOS ===\n",
       "\n"
      ]
     },
     "execution_count": 8,
     "metadata": {},
     "output_type": "execute_result"
    },
    {
     "data": {
      "text/plain": [
       "ID: 1001\n",
       "\n"
      ]
     },
     "execution_count": 8,
     "metadata": {},
     "output_type": "execute_result"
    },
    {
     "data": {
      "text/plain": [
       "Nombre: Carlos Rodriguez\n",
       "\n"
      ]
     },
     "execution_count": 8,
     "metadata": {},
     "output_type": "execute_result"
    },
    {
     "data": {
      "text/plain": [
       "Edad: 22 años\n",
       "\n"
      ]
     },
     "execution_count": 8,
     "metadata": {},
     "output_type": "execute_result"
    },
    {
     "data": {
      "text/plain": [
       "Carrera: Ingeniería en Sistemas\n",
       "\n"
      ]
     },
     "execution_count": 8,
     "metadata": {},
     "output_type": "execute_result"
    },
    {
     "data": {
      "text/plain": [
       "Promedio: 8.5\n",
       "\n"
      ]
     },
     "execution_count": 8,
     "metadata": {},
     "output_type": "execute_result"
    },
    {
     "data": {
      "text/plain": [
       "\n",
       "Datos actualizados:\n",
       "\n"
      ]
     },
     "execution_count": 8,
     "metadata": {},
     "output_type": "execute_result"
    },
    {
     "data": {
      "text/plain": [
       "Id: 1001\n",
       "\n"
      ]
     },
     "execution_count": 8,
     "metadata": {},
     "output_type": "execute_result"
    },
    {
     "data": {
      "text/plain": [
       "Nombre: Carlos Rodriguez\n",
       "\n"
      ]
     },
     "execution_count": 8,
     "metadata": {},
     "output_type": "execute_result"
    },
    {
     "data": {
      "text/plain": [
       "Edad: 22\n",
       "\n"
      ]
     },
     "execution_count": 8,
     "metadata": {},
     "output_type": "execute_result"
    },
    {
     "data": {
      "text/plain": [
       "Carrera: Ingeniería en Sistemas\n",
       "\n"
      ]
     },
     "execution_count": 8,
     "metadata": {},
     "output_type": "execute_result"
    },
    {
     "data": {
      "text/plain": [
       "Promedio: 8.5\n",
       "\n"
      ]
     },
     "execution_count": 8,
     "metadata": {},
     "output_type": "execute_result"
    },
    {
     "data": {
      "text/plain": [
       "Email: carlos@example.com\n",
       "\n"
      ]
     },
     "execution_count": 8,
     "metadata": {},
     "output_type": "execute_result"
    },
    {
     "data": {
      "text/plain": [
       "Telefono: 123-456-7890\n",
       "\n"
      ]
     },
     "execution_count": 8,
     "metadata": {},
     "output_type": "execute_result"
    }
   ],
   "source": [
    "\n",
    "echo \"=== ARRAYS INDEXADOS ===\\n\";\n",
    "\n",
    "// Diferentes formas de crear arrays\n",
    "$frutas = array(\"manzana\", \"banana\", \"naranja\");\n",
    "$numeros = [1, 2, 3, 4, 5];\n",
    "$mixto = [\"texto\", 42, true, 3.14];\n",
    "\n",
    "echo \"Frutas: \" . implode(\", \", $frutas) . \"\\n\";\n",
    "echo \"Números: \" . implode(\", \", $numeros) . \"\\n\";\n",
    "echo \"Primer número: \" . $numeros[0] . \"\\n\";\n",
    "echo \"Último número: \" . $numeros[count($numeros) - 1] . \"\\n\";\n",
    "\n",
    "// Agregar elementos\n",
    "$frutas[] = \"uva\";\n",
    "array_push($frutas, \"mango\", \"piña\");\n",
    "echo \"Frutas después de agregar: \" . implode(\", \", $frutas) . \"\\n\";\n",
    "\n",
    "echo \"\\n=== ARRAYS ASOCIATIVOS ===\\n\";\n",
    "$estudiante = [\n",
    "    \"id\" => 1001,\n",
    "    \"nombre\" => \"Carlos Rodriguez\",\n",
    "    \"edad\" => 22,\n",
    "    \"carrera\" => \"Ingeniería en Sistemas\",\n",
    "    \"promedio\" => 8.5\n",
    "];\n",
    "\n",
    "echo \"ID: \" . $estudiante[\"id\"] . \"\\n\";\n",
    "echo \"Nombre: \" . $estudiante[\"nombre\"] . \"\\n\";\n",
    "echo \"Edad: \" . $estudiante[\"edad\"] . \" años\\n\";\n",
    "echo \"Carrera: \" . $estudiante[\"carrera\"] . \"\\n\";\n",
    "echo \"Promedio: \" . $estudiante[\"promedio\"] . \"\\n\";\n",
    "\n",
    "// Agregar nuevos campos\n",
    "$estudiante[\"email\"] = \"carlos@example.com\";\n",
    "$estudiante[\"telefono\"] = \"123-456-7890\";\n",
    "\n",
    "echo \"\\nDatos actualizados:\\n\";\n",
    "foreach ($estudiante as $campo => $valor) {\n",
    "    echo ucfirst($campo) . \": $valor\\n\";\n",
    "}"
   ]
  },
  {
   "cell_type": "markdown",
   "metadata": {},
   "source": [
    "### Funciones de Arrays"
   ]
  },
  {
   "cell_type": "code",
   "execution_count": 9,
   "metadata": {},
   "outputs": [
    {
     "data": {
      "text/plain": [
       "=== FUNCIONES DE ARRAYS ===\n",
       "\n"
      ]
     },
     "execution_count": 9,
     "metadata": {},
     "output_type": "execute_result"
    },
    {
     "data": {
      "text/plain": [
       "Array original: 5, 2, 8, 1, 9, 3\n",
       "\n"
      ]
     },
     "execution_count": 9,
     "metadata": {},
     "output_type": "execute_result"
    },
    {
     "data": {
      "text/plain": [
       "Cantidad de elementos: 6\n",
       "\n"
      ]
     },
     "execution_count": 9,
     "metadata": {},
     "output_type": "execute_result"
    },
    {
     "data": {
      "text/plain": [
       "Suma total: 28\n",
       "\n"
      ]
     },
     "execution_count": 9,
     "metadata": {},
     "output_type": "execute_result"
    },
    {
     "data": {
      "text/plain": [
       "Valor máximo: 9\n",
       "\n"
      ]
     },
     "execution_count": 9,
     "metadata": {},
     "output_type": "execute_result"
    },
    {
     "data": {
      "text/plain": [
       "Valor mínimo: 1\n",
       "\n"
      ]
     },
     "execution_count": 9,
     "metadata": {},
     "output_type": "execute_result"
    },
    {
     "data": {
      "text/plain": [
       "Ordenado ascendente: 1, 2, 3, 5, 8, 9\n",
       "\n"
      ]
     },
     "execution_count": 9,
     "metadata": {},
     "output_type": "execute_result"
    },
    {
     "data": {
      "text/plain": [
       "Ordenado descendente: 9, 8, 5, 3, 2, 1\n",
       "\n"
      ]
     },
     "execution_count": 9,
     "metadata": {},
     "output_type": "execute_result"
    },
    {
     "data": {
      "text/plain": [
       "El número 8 está en la posición 2\n",
       "\n"
      ]
     },
     "execution_count": 9,
     "metadata": {},
     "output_type": "execute_result"
    },
    {
     "data": {
      "text/plain": [
       "Números pares: 2, 8\n",
       "\n"
      ]
     },
     "execution_count": 9,
     "metadata": {},
     "output_type": "execute_result"
    },
    {
     "data": {
      "text/plain": [
       "Cuadrados: 25, 4, 64, 1, 81, 9\n",
       "\n"
      ]
     },
     "execution_count": 9,
     "metadata": {},
     "output_type": "execute_result"
    }
   ],
   "source": [
    "\n",
    "echo \"=== FUNCIONES DE ARRAYS ===\\n\";\n",
    "\n",
    "$numeros = [5, 2, 8, 1, 9, 3];\n",
    "echo \"Array original: \" . implode(\", \", $numeros) . \"\\n\";\n",
    "\n",
    "// Información del array\n",
    "echo \"Cantidad de elementos: \" . count($numeros) . \"\\n\";\n",
    "echo \"Suma total: \" . array_sum($numeros) . \"\\n\";\n",
    "echo \"Valor máximo: \" . max($numeros) . \"\\n\";\n",
    "echo \"Valor mínimo: \" . min($numeros) . \"\\n\";\n",
    "\n",
    "// Ordenamiento\n",
    "$numerosAsc = $numeros;\n",
    "sort($numerosAsc);\n",
    "echo \"Ordenado ascendente: \" . implode(\", \", $numerosAsc) . \"\\n\";\n",
    "\n",
    "$numerosDesc = $numeros;\n",
    "rsort($numerosDesc);\n",
    "echo \"Ordenado descendente: \" . implode(\", \", $numerosDesc) . \"\\n\";\n",
    "\n",
    "// Buscar elementos\n",
    "$buscar = 8;\n",
    "if (in_array($buscar, $numeros)) {\n",
    "    $posicion = array_search($buscar, $numeros);\n",
    "    echo \"El número $buscar está en la posición $posicion\\n\";\n",
    "}\n",
    "\n",
    "// Filtrar elementos\n",
    "$pares = array_filter($numeros, function($n) {\n",
    "    return $n % 2 == 0;\n",
    "});\n",
    "echo \"Números pares: \" . implode(\", \", $pares) . \"\\n\";\n",
    "\n",
    "// Transformar elementos\n",
    "$cuadrados = array_map(function($n) {\n",
    "    return $n * $n;\n",
    "}, $numeros);\n",
    "echo \"Cuadrados: \" . implode(\", \", $cuadrados) . \"\\n\";"
   ]
  },
  {
   "cell_type": "markdown",
   "metadata": {},
   "source": [
    "## 8. Funciones\n",
    "\n",
    "Las funciones permiten modularizar y reutilizar código."
   ]
  },
  {
   "cell_type": "code",
   "execution_count": 10,
   "metadata": {},
   "outputs": [
    {
     "data": {
      "text/plain": [
       "=== FUNCIONES BÁSICAS ===\n",
       "\n"
      ]
     },
     "execution_count": 10,
     "metadata": {},
     "output_type": "execute_result"
    },
    {
     "data": {
      "text/plain": [
       "Hola, María!\n",
       "\n"
      ]
     },
     "execution_count": 10,
     "metadata": {},
     "output_type": "execute_result"
    },
    {
     "data": {
      "text/plain": [
       "Mi nombre es Juan\n",
       "\n"
      ]
     },
     "execution_count": 10,
     "metadata": {},
     "output_type": "execute_result"
    },
    {
     "data": {
      "text/plain": [
       "Mi nombre es Ana García\n",
       "\n"
      ]
     },
     "execution_count": 10,
     "metadata": {},
     "output_type": "execute_result"
    },
    {
     "data": {
      "text/plain": [
       "Mi nombre es Luis Martín y tengo 25 años\n",
       "\n"
      ]
     },
     "execution_count": 10,
     "metadata": {},
     "output_type": "execute_result"
    },
    {
     "data": {
      "text/plain": [
       "Área: 17.6 m²\n",
       "\n"
      ]
     },
     "execution_count": 10,
     "metadata": {},
     "output_type": "execute_result"
    },
    {
     "data": {
      "text/plain": [
       "Suma: 15\n",
       "\n"
      ]
     },
     "execution_count": 10,
     "metadata": {},
     "output_type": "execute_result"
    },
    {
     "data": {
      "text/plain": [
       "\n",
       "=== FUNCIONES ANÓNIMAS (CLOSURES) ===\n",
       "\n"
      ]
     },
     "execution_count": 10,
     "metadata": {},
     "output_type": "execute_result"
    },
    {
     "data": {
      "text/plain": [
       "5 × 3 = 15\n",
       "\n"
      ]
     },
     "execution_count": 10,
     "metadata": {},
     "output_type": "execute_result"
    },
    {
     "data": {
      "text/plain": [
       "Dobles: 2, 4, 6, 8, 10\n",
       "\n"
      ]
     },
     "execution_count": 10,
     "metadata": {},
     "output_type": "execute_result"
    }
   ],
   "source": [
    "\n",
    "echo \"=== FUNCIONES BÁSICAS ===\\n\";\n",
    "\n",
    "// Función simple\n",
    "function saludar($nombre) {\n",
    "    return \"Hola, $nombre!\";\n",
    "}\n",
    "\n",
    "// Función con parámetros por defecto\n",
    "function presentar($nombre, $apellido = \"\", $edad = null) {\n",
    "    $resultado = \"Mi nombre es $nombre\";\n",
    "    if ($apellido) {\n",
    "        $resultado .= \" $apellido\";\n",
    "    }\n",
    "    if ($edad !== null) {\n",
    "        $resultado .= \" y tengo $edad años\";\n",
    "    }\n",
    "    return $resultado;\n",
    "}\n",
    "\n",
    "// Función con tipo de datos (PHP 7+)\n",
    "function calcularArea(float $largo, float $ancho): float {\n",
    "    return $largo * $ancho;\n",
    "}\n",
    "\n",
    "// Función con parámetros variables\n",
    "function sumar(...$numeros) {\n",
    "    return array_sum($numeros);\n",
    "}\n",
    "\n",
    "// Probar las funciones\n",
    "echo saludar(\"María\") . \"\\n\";\n",
    "echo presentar(\"Juan\") . \"\\n\";\n",
    "echo presentar(\"Ana\", \"García\") . \"\\n\";\n",
    "echo presentar(\"Luis\", \"Martín\", 25) . \"\\n\";\n",
    "echo \"Área: \" . calcularArea(5.5, 3.2) . \" m²\\n\";\n",
    "echo \"Suma: \" . sumar(1, 2, 3, 4, 5) . \"\\n\";\n",
    "\n",
    "echo \"\\n=== FUNCIONES ANÓNIMAS (CLOSURES) ===\\n\";\n",
    "\n",
    "// Función anónima\n",
    "$multiplicar = function($a, $b) {\n",
    "    return $a * $b;\n",
    "};\n",
    "\n",
    "echo \"5 × 3 = \" . $multiplicar(5, 3) . \"\\n\";\n",
    "\n",
    "// Usar función anónima con array_map\n",
    "$numeros = [1, 2, 3, 4, 5];\n",
    "$dobles = array_map(function($n) { return $n * 2; }, $numeros);\n",
    "echo \"Dobles: \" . implode(\", \", $dobles) . \"\\n\";"
   ]
  },
  {
   "cell_type": "markdown",
   "metadata": {},
   "source": [
    "## 9. Manejo de Strings (Cadenas)\n",
    "\n",
    "PHP tiene muchas funciones para trabajar con strings."
   ]
  },
  {
   "cell_type": "code",
   "execution_count": 11,
   "metadata": {},
   "outputs": [
    {
     "data": {
      "text/plain": [
       "=== MANIPULACIÓN DE STRINGS ===\n",
       "\n"
      ]
     },
     "execution_count": 11,
     "metadata": {},
     "output_type": "execute_result"
    },
    {
     "data": {
      "text/plain": [
       "Original: '  Hola Mundo desde PHP 7.2  '\n",
       "\n"
      ]
     },
     "execution_count": 11,
     "metadata": {},
     "output_type": "execute_result"
    },
    {
     "data": {
      "text/plain": [
       "Longitud: 28 caracteres\n",
       "\n"
      ]
     },
     "execution_count": 11,
     "metadata": {},
     "output_type": "execute_result"
    },
    {
     "data": {
      "text/plain": [
       "Sin espacios: 'Hola Mundo desde PHP 7.2'\n",
       "\n"
      ]
     },
     "execution_count": 11,
     "metadata": {},
     "output_type": "execute_result"
    },
    {
     "data": {
      "text/plain": [
       "Minúsculas: hola mundo desde php 7.2\n",
       "\n"
      ]
     },
     "execution_count": 11,
     "metadata": {},
     "output_type": "execute_result"
    },
    {
     "data": {
      "text/plain": [
       "Mayúsculas: HOLA MUNDO DESDE PHP 7.2\n",
       "\n"
      ]
     },
     "execution_count": 11,
     "metadata": {},
     "output_type": "execute_result"
    },
    {
     "data": {
      "text/plain": [
       "Primera mayúscula: Hola mundo desde php 7.2\n",
       "\n"
      ]
     },
     "execution_count": 11,
     "metadata": {},
     "output_type": "execute_result"
    },
    {
     "data": {
      "text/plain": [
       "Cada palabra: Hola Mundo Desde Php 7.2\n",
       "\n"
      ]
     },
     "execution_count": 11,
     "metadata": {},
     "output_type": "execute_result"
    },
    {
     "data": {
      "text/plain": [
       "Se encontró 'PHP' en posición: 17\n",
       "\n"
      ]
     },
     "execution_count": 11,
     "metadata": {},
     "output_type": "execute_result"
    },
    {
     "data": {
      "text/plain": [
       "Reemplazado: Hola Mundo desde PHP\n",
       "\n"
      ]
     },
     "execution_count": 11,
     "metadata": {},
     "output_type": "execute_result"
    },
    {
     "data": {
      "text/plain": [
       "Palabras: 5 -> Hola | Mundo | desde | PHP | 7.2\n",
       "\n"
      ]
     },
     "execution_count": 11,
     "metadata": {},
     "output_type": "execute_result"
    },
    {
     "data": {
      "text/plain": [
       "Primeros 10 caracteres: Hola Mundo\n",
       "\n"
      ]
     },
     "execution_count": 11,
     "metadata": {},
     "output_type": "execute_result"
    },
    {
     "data": {
      "text/plain": [
       "Últimos 5 caracteres: P 7.2\n",
       "\n"
      ]
     },
     "execution_count": 11,
     "metadata": {},
     "output_type": "execute_result"
    },
    {
     "data": {
      "text/plain": [
       "\n",
       "=== FORMATEO DE STRINGS ===\n",
       "\n"
      ]
     },
     "execution_count": 11,
     "metadata": {},
     "output_type": "execute_result"
    },
    {
     "data": {
      "text/plain": [
       "Nombre: Carlos, Edad: 25 años, Altura: 1.75 m\n",
       "\n"
      ]
     },
     "execution_count": 11,
     "metadata": {},
     "output_type": "execute_result"
    },
    {
     "data": {
      "text/plain": [
       "Mi nombre es Carlos y tengo 25 años\n",
       "\n"
      ]
     },
     "execution_count": 11,
     "metadata": {},
     "output_type": "execute_result"
    },
    {
     "data": {
      "text/plain": [
       "Mi altura es 1.75m\n",
       "\n"
      ]
     },
     "execution_count": 11,
     "metadata": {},
     "output_type": "execute_result"
    }
   ],
   "source": [
    "\n",
    "echo \"=== MANIPULACIÓN DE STRINGS ===\\n\";\n",
    "\n",
    "$texto = \"  Hola Mundo desde PHP 7.2  \";\n",
    "echo \"Original: '$texto'\\n\";\n",
    "echo \"Longitud: \" . strlen($texto) . \" caracteres\\n\";\n",
    "\n",
    "// Limpieza de strings\n",
    "$limpio = trim($texto);\n",
    "echo \"Sin espacios: '$limpio'\\n\";\n",
    "echo \"Minúsculas: \" . strtolower($limpio) . \"\\n\";\n",
    "echo \"Mayúsculas: \" . strtoupper($limpio) . \"\\n\";\n",
    "echo \"Primera mayúscula: \" . ucfirst(strtolower($limpio)) . \"\\n\";\n",
    "echo \"Cada palabra: \" . ucwords(strtolower($limpio)) . \"\\n\";\n",
    "\n",
    "// Buscar en strings\n",
    "$buscar = \"PHP\";\n",
    "if (strpos($limpio, $buscar) !== false) {\n",
    "    echo \"Se encontró '$buscar' en posición: \" . strpos($limpio, $buscar) . \"\\n\";\n",
    "}\n",
    "\n",
    "// Reemplazar\n",
    "$nuevo = str_replace(\"PHP 7.2\", \"PHP\", $limpio);\n",
    "echo \"Reemplazado: $nuevo\\n\";\n",
    "\n",
    "// Dividir strings\n",
    "$partes = explode(\" \", $limpio);\n",
    "echo \"Palabras: \" . count($partes) . \" -> \" . implode(\" | \", $partes) . \"\\n\";\n",
    "\n",
    "// Substring\n",
    "echo \"Primeros 10 caracteres: \" . substr($limpio, 0, 10) . \"\\n\";\n",
    "echo \"Últimos 5 caracteres: \" . substr($limpio, -5) . \"\\n\";\n",
    "\n",
    "echo \"\\n=== FORMATEO DE STRINGS ===\\n\";\n",
    "$nombre = \"Carlos\";\n",
    "$edad = 25;\n",
    "$altura = 1.75;\n",
    "\n",
    "// sprintf\n",
    "$formato = sprintf(\"Nombre: %s, Edad: %d años, Altura: %.2f m\", $nombre, $edad, $altura);\n",
    "echo $formato . \"\\n\";\n",
    "\n",
    "// Interpolación de variables en strings\n",
    "echo \"Mi nombre es $nombre y tengo $edad años\\n\";\n",
    "echo \"Mi altura es {$altura}m\\n\";"
   ]
  },
  {
   "cell_type": "markdown",
   "metadata": {},
   "source": [
    "## 10. Programación Orientada a Objetos (POO)\n",
    "\n",
    "PHP soporta programación orientada a objetos completa."
   ]
  },
  {
   "cell_type": "code",
   "execution_count": 12,
   "metadata": {},
   "outputs": [
    {
     "data": {
      "text/plain": [
       "=== CLASES Y OBJETOS ===\n",
       "\n"
      ]
     },
     "execution_count": 12,
     "metadata": {},
     "output_type": "execute_result"
    },
    {
     "data": {
      "text/plain": [
       "Nueva persona creada: María González\n",
       "\n"
      ]
     },
     "execution_count": 12,
     "metadata": {},
     "output_type": "execute_result"
    },
    {
     "data": {
      "text/plain": [
       "Nueva persona creada: Pedro Martínez\n",
       "\n"
      ]
     },
     "execution_count": 12,
     "metadata": {},
     "output_type": "execute_result"
    },
    {
     "data": {
      "text/plain": [
       "Persona 1: Hola, soy María González y tengo 30 años\n",
       "\n"
      ]
     },
     "execution_count": 12,
     "metadata": {},
     "output_type": "execute_result"
    },
    {
     "data": {
      "text/plain": [
       "Persona 2: Hola, soy Pedro Martínez y tengo 25 años\n",
       "\n"
      ]
     },
     "execution_count": 12,
     "metadata": {},
     "output_type": "execute_result"
    },
    {
     "data": {
      "text/plain": [
       "Estado de María González: Inactivo\n",
       "\n"
      ]
     },
     "execution_count": 12,
     "metadata": {},
     "output_type": "execute_result"
    }
   ],
   "source": [
    "\n",
    "echo \"=== CLASES Y OBJETOS ===\\n\";\n",
    "\n",
    "// Definir una clase\n",
    "class Persona {\n",
    "    // Propiedades\n",
    "    private $nombre;\n",
    "    private $edad;\n",
    "    protected $email;\n",
    "    public $activo;\n",
    "    \n",
    "    // Constructor\n",
    "    public function __construct($nombre, $edad) {\n",
    "        $this->nombre = $nombre;\n",
    "        $this->edad = $edad;\n",
    "        $this->activo = true;\n",
    "        echo \"Nueva persona creada: $nombre\\n\";\n",
    "    }\n",
    "    \n",
    "    // Métodos públicos (getters)\n",
    "    public function getNombre() {\n",
    "        return $this->nombre;\n",
    "    }\n",
    "    \n",
    "    public function getEdad() {\n",
    "        return $this->edad;\n",
    "    }\n",
    "    \n",
    "    // Setters\n",
    "    public function setEmail($email) {\n",
    "        $this->email = $email;\n",
    "    }\n",
    "    \n",
    "    // Método personalizado\n",
    "    public function saludar() {\n",
    "        return \"Hola, soy {$this->nombre} y tengo {$this->edad} años\";\n",
    "    }\n",
    "    \n",
    "    // Método mágico __toString\n",
    "    public function __toString() {\n",
    "        return $this->saludar();\n",
    "    }\n",
    "}\n",
    "\n",
    "// Crear objetos\n",
    "$persona1 = new Persona(\"María González\", 30);\n",
    "$persona2 = new Persona(\"Pedro Martínez\", 25);\n",
    "\n",
    "echo \"Persona 1: \" . $persona1->saludar() . \"\\n\";\n",
    "echo \"Persona 2: \" . $persona2 . \"\\n\";\n",
    "\n",
    "// Acceder a propiedades públicas\n",
    "$persona1->activo = false;\n",
    "echo \"Estado de \" . $persona1->getNombre() . \": \" . ($persona1->activo ? 'Activo' : 'Inactivo') . \"\\n\";"
   ]
  },
  {
   "cell_type": "markdown",
   "metadata": {},
   "source": [
    "## 11. Manejo de Fechas\n",
    "\n",
    "PHP ofrece excelentes herramientas para trabajar con fechas y tiempo."
   ]
  },
  {
   "cell_type": "code",
   "execution_count": 13,
   "metadata": {},
   "outputs": [
    {
     "data": {
      "text/plain": [
       "=== FECHAS Y TIEMPO ===\n",
       "\n"
      ]
     },
     "execution_count": 13,
     "metadata": {},
     "output_type": "execute_result"
    },
    {
     "data": {
      "text/plain": [
       "Fecha actual: 2025-10-25 23:45:46\n",
       "\n"
      ]
     },
     "execution_count": 13,
     "metadata": {},
     "output_type": "execute_result"
    },
    {
     "data": {
      "text/plain": [
       "Formato personalizado: 25/10/2025\n",
       "\n"
      ]
     },
     "execution_count": 13,
     "metadata": {},
     "output_type": "execute_result"
    },
    {
     "data": {
      "text/plain": [
       "Cumpleaños: Thursday, 15 June 1995\n",
       "\n"
      ]
     },
     "execution_count": 13,
     "metadata": {},
     "output_type": "execute_result"
    },
    {
     "data": {
      "text/plain": [
       "Edad: 30 años, 4 meses y 10 días\n",
       "\n"
      ]
     },
     "execution_count": 13,
     "metadata": {},
     "output_type": "execute_result"
    },
    {
     "data": {
      "text/plain": [
       "Fecha futura: 2026-12-28\n",
       "\n"
      ]
     },
     "execution_count": 13,
     "metadata": {},
     "output_type": "execute_result"
    },
    {
     "data": {
      "text/plain": [
       "Timestamp actual: 1761435946\n",
       "\n"
      ]
     },
     "execution_count": 13,
     "metadata": {},
     "output_type": "execute_result"
    },
    {
     "data": {
      "text/plain": [
       "Fecha desde timestamp: 2025-10-25 23:45:46\n",
       "\n"
      ]
     },
     "execution_count": 13,
     "metadata": {},
     "output_type": "execute_result"
    }
   ],
   "source": [
    "\n",
    "echo \"=== FECHAS Y TIEMPO ===\\n\";\n",
    "\n",
    "// Fecha actual\n",
    "$ahora = new DateTime();\n",
    "echo \"Fecha actual: \" . $ahora->format('Y-m-d H:i:s') . \"\\n\";\n",
    "echo \"Formato personalizado: \" . $ahora->format('d/m/Y') . \"\\n\";\n",
    "\n",
    "// Crear fecha específica\n",
    "$cumpleanos = new DateTime('1995-06-15');\n",
    "echo \"Cumpleaños: \" . $cumpleanos->format('l, d F Y') . \"\\n\";\n",
    "\n",
    "// Calcular diferencia de fechas\n",
    "$diferencia = $ahora->diff($cumpleanos);\n",
    "echo \"Edad: \" . $diferencia->y . \" años, \" . $diferencia->m . \" meses y \" . $diferencia->d . \" días\\n\";\n",
    "\n",
    "// Modificar fechas\n",
    "$futuro = clone $ahora;\n",
    "$futuro->add(new DateInterval('P1Y2M3D')); // +1 año, 2 meses, 3 días\n",
    "echo \"Fecha futura: \" . $futuro->format('Y-m-d') . \"\\n\";\n",
    "\n",
    "// Timestamp\n",
    "echo \"Timestamp actual: \" . time() . \"\\n\";\n",
    "echo \"Fecha desde timestamp: \" . date('Y-m-d H:i:s', time()) . \"\\n\";"
   ]
  },
  {
   "cell_type": "markdown",
   "metadata": {},
   "source": [
    "## 12. Manejo de Archivos\n",
    "\n",
    "PHP permite leer y escribir archivos fácilmente."
   ]
  },
  {
   "cell_type": "code",
   "execution_count": 14,
   "metadata": {},
   "outputs": [
    {
     "data": {
      "text/plain": [
       "=== MANEJO DE ARCHIVOS ===\n",
       "\n"
      ]
     },
     "execution_count": 14,
     "metadata": {},
     "output_type": "execute_result"
    },
    {
     "data": {
      "text/plain": [
       "Archivo 'ejemplo.txt' creado exitosamente\n",
       "\n"
      ]
     },
     "execution_count": 14,
     "metadata": {},
     "output_type": "execute_result"
    },
    {
     "data": {
      "text/plain": [
       "El archivo existe\n",
       "\n"
      ]
     },
     "execution_count": 14,
     "metadata": {},
     "output_type": "execute_result"
    },
    {
     "data": {
      "text/plain": [
       "Tamaño: 75 bytes\n",
       "\n"
      ]
     },
     "execution_count": 14,
     "metadata": {},
     "output_type": "execute_result"
    },
    {
     "data": {
      "text/plain": [
       "Contenido completo:\n",
       "Hola mundo desde PHP 7.2!\n",
       "Esta es una segunda línea.\n",
       "Y esta es la tercera.\n",
       "\n",
       "\n"
      ]
     },
     "execution_count": 14,
     "metadata": {},
     "output_type": "execute_result"
    },
    {
     "data": {
      "text/plain": [
       "Leyendo línea por línea:\n",
       "\n"
      ]
     },
     "execution_count": 14,
     "metadata": {},
     "output_type": "execute_result"
    },
    {
     "data": {
      "text/plain": [
       "Línea 1: Hola mundo desde PHP 7.2!\n",
       "\n"
      ]
     },
     "execution_count": 14,
     "metadata": {},
     "output_type": "execute_result"
    },
    {
     "data": {
      "text/plain": [
       "Línea 2: Esta es una segunda línea.\n",
       "\n"
      ]
     },
     "execution_count": 14,
     "metadata": {},
     "output_type": "execute_result"
    },
    {
     "data": {
      "text/plain": [
       "Línea 3: Y esta es la tercera.\n",
       "\n"
      ]
     },
     "execution_count": 14,
     "metadata": {},
     "output_type": "execute_result"
    },
    {
     "data": {
      "text/plain": [
       "\n",
       "Archivo eliminado correctamente\n",
       "\n"
      ]
     },
     "execution_count": 14,
     "metadata": {},
     "output_type": "execute_result"
    }
   ],
   "source": [
    "\n",
    "echo \"=== MANEJO DE ARCHIVOS ===\\n\";\n",
    "\n",
    "$nombreArchivo = 'ejemplo.txt';\n",
    "$contenido = \"Hola mundo desde PHP 7.2!\\nEsta es una segunda línea.\\nY esta es la tercera.\";\n",
    "\n",
    "// Escribir archivo\n",
    "if (file_put_contents($nombreArchivo, $contenido)) {\n",
    "    echo \"Archivo '$nombreArchivo' creado exitosamente\\n\";\n",
    "} else {\n",
    "    echo \"Error al crear el archivo\\n\";\n",
    "}\n",
    "\n",
    "// Verificar si existe\n",
    "if (file_exists($nombreArchivo)) {\n",
    "    echo \"El archivo existe\\n\";\n",
    "    echo \"Tamaño: \" . filesize($nombreArchivo) . \" bytes\\n\";\n",
    "}\n",
    "\n",
    "// Leer archivo completo\n",
    "$contenidoLeido = file_get_contents($nombreArchivo);\n",
    "echo \"Contenido completo:\\n$contenidoLeido\\n\\n\";\n",
    "\n",
    "// Leer línea por línea\n",
    "echo \"Leyendo línea por línea:\\n\";\n",
    "$lineas = file($nombreArchivo, FILE_IGNORE_NEW_LINES);\n",
    "foreach ($lineas as $numero => $linea) {\n",
    "    echo \"Línea \" . ($numero + 1) . \": $linea\\n\";\n",
    "}\n",
    "\n",
    "// Limpiar (eliminar archivo de prueba)\n",
    "if (unlink($nombreArchivo)) {\n",
    "    echo \"\\nArchivo eliminado correctamente\\n\";\n",
    "}"
   ]
  },
  {
   "cell_type": "markdown",
   "metadata": {},
   "source": [
    "## 13. Expresiones Regulares\n",
    "\n",
    "PHP soporta expresiones regulares para búsqueda y manipulación avanzada de texto."
   ]
  },
  {
   "cell_type": "code",
   "execution_count": 15,
   "metadata": {},
   "outputs": [
    {
     "data": {
      "text/plain": [
       "=== EXPRESIONES REGULARES ===\n",
       "\n"
      ]
     },
     "execution_count": 15,
     "metadata": {},
     "output_type": "execute_result"
    },
    {
     "data": {
      "text/plain": [
       "Texto original: Mi email es usuario@ejemplo.com y mi teléfono es 123-456-7890\n",
       "\n",
       "\n"
      ]
     },
     "execution_count": 15,
     "metadata": {},
     "output_type": "execute_result"
    },
    {
     "data": {
      "text/plain": [
       "Email encontrado: usuario@ejemplo.com\n",
       "\n"
      ]
     },
     "execution_count": 15,
     "metadata": {},
     "output_type": "execute_result"
    },
    {
     "data": {
      "text/plain": [
       "Teléfono encontrado: 123-456-7890\n",
       "\n"
      ]
     },
     "execution_count": 15,
     "metadata": {},
     "output_type": "execute_result"
    },
    {
     "data": {
      "text/plain": [
       "Texto con teléfono oculto: Mi email es usuario@ejemplo.com y mi teléfono es XXX-XXX-XXXX\n",
       "\n"
      ]
     },
     "execution_count": 15,
     "metadata": {},
     "output_type": "execute_result"
    },
    {
     "data": {
      "text/plain": [
       "\n",
       "Palabras separadas: palabra1 | palabra2 | palabra3 | palabra4\n",
       "\n"
      ]
     },
     "execution_count": 15,
     "metadata": {},
     "output_type": "execute_result"
    },
    {
     "data": {
      "text/plain": [
       "\n",
       "Validación de emails:\n",
       "\n"
      ]
     },
     "execution_count": 15,
     "metadata": {},
     "output_type": "execute_result"
    },
    {
     "data": {
      "text/plain": [
       "user@example.com: Válido\n",
       "\n"
      ]
     },
     "execution_count": 15,
     "metadata": {},
     "output_type": "execute_result"
    },
    {
     "data": {
      "text/plain": [
       "invalid-email: Inválido\n",
       "\n"
      ]
     },
     "execution_count": 15,
     "metadata": {},
     "output_type": "execute_result"
    },
    {
     "data": {
      "text/plain": [
       "test@domain.co.uk: Válido\n",
       "\n"
      ]
     },
     "execution_count": 15,
     "metadata": {},
     "output_type": "execute_result"
    }
   ],
   "source": [
    "\n",
    "echo \"=== EXPRESIONES REGULARES ===\\n\";\n",
    "\n",
    "$texto = \"Mi email es usuario@ejemplo.com y mi teléfono es 123-456-7890\";\n",
    "echo \"Texto original: $texto\\n\\n\";\n",
    "\n",
    "// Buscar email\n",
    "$patronEmail = '/[a-zA-Z0-9._%+-]+@[a-zA-Z0-9.-]+\\.[a-zA-Z]{2,}/';\n",
    "if (preg_match($patronEmail, $texto, $matches)) {\n",
    "    echo \"Email encontrado: \" . $matches[0] . \"\\n\";\n",
    "}\n",
    "\n",
    "// Buscar teléfono\n",
    "$patronTelefono = '/\\d{3}-\\d{3}-\\d{4}/';\n",
    "if (preg_match($patronTelefono, $texto, $matches)) {\n",
    "    echo \"Teléfono encontrado: \" . $matches[0] . \"\\n\";\n",
    "}\n",
    "\n",
    "// Reemplazar usando regex\n",
    "$textoOculto = preg_replace('/\\d{3}-\\d{3}-\\d{4}/', 'XXX-XXX-XXXX', $texto);\n",
    "echo \"Texto con teléfono oculto: $textoOculto\\n\";\n",
    "\n",
    "// Dividir usando regex\n",
    "$frase = \"palabra1,palabra2;palabra3 palabra4\";\n",
    "$palabras = preg_split('/[,; ]+/', $frase);\n",
    "echo \"\\nPalabras separadas: \" . implode(' | ', $palabras) . \"\\n\";\n",
    "\n",
    "// Validar formato\n",
    "$emails = ['user@example.com', 'invalid-email', 'test@domain.co.uk'];\n",
    "echo \"\\nValidación de emails:\\n\";\n",
    "foreach ($emails as $email) {\n",
    "    $valido = preg_match($patronEmail, $email) ? 'Válido' : 'Inválido';\n",
    "    echo \"$email: $valido\\n\";\n",
    "}"
   ]
  },
  {
   "cell_type": "markdown",
   "metadata": {},
   "source": [
    "## 14. JSON y APIs\n",
    "\n",
    "PHP tiene excelente soporte para trabajar con JSON."
   ]
  },
  {
   "cell_type": "code",
   "execution_count": 16,
   "metadata": {},
   "outputs": [
    {
     "data": {
      "text/plain": [
       "=== TRABAJANDO CON JSON ===\n",
       "\n"
      ]
     },
     "execution_count": 16,
     "metadata": {},
     "output_type": "execute_result"
    },
    {
     "data": {
      "text/plain": [
       "JSON generado:\n",
       "{\n",
       "    \"id\": 123,\n",
       "    \"nombre\": \"Ana García\",\n",
       "    \"email\": \"ana@example.com\",\n",
       "    \"activo\": true,\n",
       "    \"hobbies\": [\n",
       "        \"programar\",\n",
       "        \"leer\",\n",
       "        \"viajar\"\n",
       "    ],\n",
       "    \"direccion\": {\n",
       "        \"calle\": \"Av. Principal 123\",\n",
       "        \"ciudad\": \"Madrid\",\n",
       "        \"pais\": \"España\"\n",
       "    }\n",
       "}\n",
       "\n",
       "\n"
      ]
     },
     "execution_count": 16,
     "metadata": {},
     "output_type": "execute_result"
    },
    {
     "data": {
      "text/plain": [
       "Datos decodificados:\n",
       "\n"
      ]
     },
     "execution_count": 16,
     "metadata": {},
     "output_type": "execute_result"
    },
    {
     "data": {
      "text/plain": [
       "Nombre: Ana García\n",
       "\n"
      ]
     },
     "execution_count": 16,
     "metadata": {},
     "output_type": "execute_result"
    },
    {
     "data": {
      "text/plain": [
       "Ciudad: Madrid\n",
       "\n"
      ]
     },
     "execution_count": 16,
     "metadata": {},
     "output_type": "execute_result"
    },
    {
     "data": {
      "text/plain": [
       "Hobbies: programar, leer, viajar\n",
       "\n"
      ]
     },
     "execution_count": 16,
     "metadata": {},
     "output_type": "execute_result"
    },
    {
     "data": {
      "text/plain": [
       "\n",
       "Error en JSON: Syntax error\n",
       "\n"
      ]
     },
     "execution_count": 16,
     "metadata": {},
     "output_type": "execute_result"
    },
    {
     "data": {
      "text/plain": [
       "\n",
       "Respuesta API:\n",
       "{\n",
       "    \"status\": \"success\",\n",
       "    \"data\": {\n",
       "        \"id\": 123,\n",
       "        \"nombre\": \"Ana García\",\n",
       "        \"email\": \"ana@example.com\",\n",
       "        \"activo\": true,\n",
       "        \"hobbies\": [\n",
       "            \"programar\",\n",
       "            \"leer\",\n",
       "            \"viajar\"\n",
       "        ],\n",
       "        \"direccion\": {\n",
       "            \"calle\": \"Av. Principal 123\",\n",
       "            \"ciudad\": \"Madrid\",\n",
       "            \"pais\": \"España\"\n",
       "        }\n",
       "    },\n",
       "    \"timestamp\": \"2025-10-25T23:45:46+00:00\",\n",
       "    \"version\": \"1.0\"\n",
       "}\n",
       "\n"
      ]
     },
     "execution_count": 16,
     "metadata": {},
     "output_type": "execute_result"
    }
   ],
   "source": [
    "\n",
    "echo \"=== TRABAJANDO CON JSON ===\\n\";\n",
    "\n",
    "// Crear datos PHP\n",
    "$usuario = [\n",
    "    'id' => 123,\n",
    "    'nombre' => 'Ana García',\n",
    "    'email' => 'ana@example.com',\n",
    "    'activo' => true,\n",
    "    'hobbies' => ['programar', 'leer', 'viajar'],\n",
    "    'direccion' => [\n",
    "        'calle' => 'Av. Principal 123',\n",
    "        'ciudad' => 'Madrid',\n",
    "        'pais' => 'España'\n",
    "    ]\n",
    "];\n",
    "\n",
    "// Convertir a JSON\n",
    "$json = json_encode($usuario, JSON_PRETTY_PRINT | JSON_UNESCAPED_UNICODE);\n",
    "echo \"JSON generado:\\n$json\\n\\n\";\n",
    "\n",
    "// Convertir de JSON a PHP\n",
    "$datosDecodificados = json_decode($json, true);\n",
    "echo \"Datos decodificados:\\n\";\n",
    "echo \"Nombre: \" . $datosDecodificados['nombre'] . \"\\n\";\n",
    "echo \"Ciudad: \" . $datosDecodificados['direccion']['ciudad'] . \"\\n\";\n",
    "echo \"Hobbies: \" . implode(', ', $datosDecodificados['hobbies']) . \"\\n\";\n",
    "\n",
    "// Validar JSON\n",
    "$jsonInvalido = '{\"nombre\": \"Juan\", \"edad\": }';\n",
    "$resultado = json_decode($jsonInvalido);\n",
    "if (json_last_error() !== JSON_ERROR_NONE) {\n",
    "    echo \"\\nError en JSON: \" . json_last_error_msg() . \"\\n\";\n",
    "}\n",
    "\n",
    "// Crear respuesta API\n",
    "$respuestaAPI = [\n",
    "    'status' => 'success',\n",
    "    'data' => $usuario,\n",
    "    'timestamp' => date('c'),\n",
    "    'version' => '1.0'\n",
    "];\n",
    "\n",
    "echo \"\\nRespuesta API:\\n\" . json_encode($respuestaAPI, JSON_PRETTY_PRINT | JSON_UNESCAPED_UNICODE) . \"\\n\";"
   ]
  },
  {
   "cell_type": "markdown",
   "metadata": {},
   "source": [
    "## 15. Manejo de Errores\n",
    "\n",
    "PHP 7 introduce mejoras significativas en el manejo de errores."
   ]
  },
  {
   "cell_type": "code",
   "execution_count": 17,
   "metadata": {},
   "outputs": [
    {
     "data": {
      "text/plain": [
       "=== MANEJO DE ERRORES ===\n",
       "\n"
      ]
     },
     "execution_count": 17,
     "metadata": {},
     "output_type": "execute_result"
    },
    {
     "data": {
      "text/plain": [
       "Error general: PHP Warning:  Division by zero in C:\\Users\\eduar\\AppData\\Roaming\\Composer\\vendor\\litipk\\jupyter-php\\src\\Actions\\ExecuteAction.php(115) : eval()'d code on line 4\n",
       "\n"
      ]
     },
     "execution_count": 17,
     "metadata": {},
     "output_type": "execute_result"
    },
    {
     "data": {
      "text/plain": [
       "Resultado: 5\n",
       "\n"
      ]
     },
     "execution_count": 17,
     "metadata": {},
     "output_type": "execute_result"
    },
    {
     "data": {
      "text/plain": [
       "Error personalizado: El divisor no puede ser cero\n",
       "\n"
      ]
     },
     "execution_count": 17,
     "metadata": {},
     "output_type": "execute_result"
    },
    {
     "data": {
      "text/plain": [
       "Intentando operación...\n",
       "\n"
      ]
     },
     "execution_count": 17,
     "metadata": {},
     "output_type": "execute_result"
    },
    {
     "data": {
      "text/plain": [
       "Error al abrir archivo\n",
       "\n"
      ]
     },
     "execution_count": 17,
     "metadata": {},
     "output_type": "execute_result"
    },
    {
     "data": {
      "text/plain": [
       "Bloque finally ejecutado\n",
       "\n"
      ]
     },
     "execution_count": 17,
     "metadata": {},
     "output_type": "execute_result"
    },
    {
     "data": {
      "text/plain": [
       "Excepción capturada: Error personalizado\n",
       "\n"
      ]
     },
     "execution_count": 17,
     "metadata": {},
     "output_type": "execute_result"
    }
   ],
   "source": [
    "\n",
    "echo \"=== MANEJO DE ERRORES ===\\n\";\n",
    "\n",
    "// Try-catch básico\n",
    "try {\n",
    "    $resultado = 10 / 0;\n",
    "} catch (DivisionByZeroError $e) {\n",
    "    echo \"Error de división por cero: \" . $e->getMessage() . \"\\n\";\n",
    "} catch (Exception $e) {\n",
    "    echo \"Error general: \" . $e->getMessage() . \"\\n\";\n",
    "}\n",
    "\n",
    "// Función personalizada con manejo de errores\n",
    "function dividir($a, $b) {\n",
    "    if ($b == 0) {\n",
    "        throw new InvalidArgumentException(\"El divisor no puede ser cero\");\n",
    "    }\n",
    "    return $a / $b;\n",
    "}\n",
    "\n",
    "// Usar la función con try-catch\n",
    "try {\n",
    "    echo \"Resultado: \" . dividir(10, 2) . \"\\n\";\n",
    "    echo \"Resultado: \" . dividir(10, 0) . \"\\n\";\n",
    "} catch (InvalidArgumentException $e) {\n",
    "    echo \"Error personalizado: \" . $e->getMessage() . \"\\n\";\n",
    "}\n",
    "\n",
    "// Finally (se ejecuta siempre)\n",
    "try {\n",
    "    echo \"Intentando operación...\\n\";\n",
    "    $archivo = fopen('archivo_inexistente.txt', 'r');\n",
    "} catch (Exception $e) {\n",
    "    echo \"Error al abrir archivo\\n\";\n",
    "} finally {\n",
    "    echo \"Bloque finally ejecutado\\n\";\n",
    "}\n",
    "\n",
    "// Múltiples excepciones (PHP 7.1+)\n",
    "class MiExcepcionPersonalizada extends Exception {}\n",
    "\n",
    "try {\n",
    "    throw new MiExcepcionPersonalizada(\"Error personalizado\");\n",
    "} catch (InvalidArgumentException | MiExcepcionPersonalizada $e) {\n",
    "    echo \"Excepción capturada: \" . $e->getMessage() . \"\\n\";\n",
    "}"
   ]
  },
  {
   "cell_type": "markdown",
   "metadata": {},
   "source": [
    "## Conclusión\n",
    "\n",
    "Esta documentación ha cubierto los conceptos fundamentales de PHP 7.2:\n",
    "\n",
    "✅ **Configuración y verificación del sistema**  \n",
    "✅ **Variables y tipos de datos**  \n",
    "✅ **Constantes**  \n",
    "✅ **Operadores**  \n",
    "✅ **Estructuras de control**  \n",
    "✅ **Bucles**  \n",
    "✅ **Arrays y sus funciones**  \n",
    "✅ **Funciones**  \n",
    "✅ **Manejo de strings**  \n",
    "✅ **Programación orientada a objetos**  \n",
    "✅ **Manejo de fechas**  \n",
    "✅ **Operaciones con archivos**  \n",
    "✅ **Expresiones regulares**  \n",
    "✅ **JSON y APIs**  \n",
    "✅ **Manejo de errores**\n",
    "\n",
    "**Entorno configurado:**\n",
    "- PHP 7.2.34 Thread Safe ✓\n",
    "- Extensión ZMQ habilitada ✓\n",
    "- Jupyter Notebook funcional ✓\n"
   ]
  },
  {
   "cell_type": "code",
   "execution_count": 1,
   "metadata": {},
   "outputs": [
    {
     "data": {
      "text/plain": [
       "Si funciona el Kernel Luis\n"
      ]
     },
     "execution_count": 1,
     "metadata": {},
     "output_type": "execute_result"
    }
   ],
   "source": [
    "echo \"Si funciona el Kernel Luis\""
   ]
  },
  {
   "cell_type": "code",
   "execution_count": null,
   "metadata": {},
   "outputs": [],
   "source": []
  }
 ],
 "metadata": {
  "kernelspec": {
   "display_name": "PHP",
   "language": "php",
   "name": "php"
  },
  "language_info": {
   "file_extension": ".php",
   "mimetype": "text/x-php",
   "name": "PHP",
   "pygments_lexer": "PHP",
   "version": "7.2.34"
  }
 },
 "nbformat": 4,
 "nbformat_minor": 4
}
