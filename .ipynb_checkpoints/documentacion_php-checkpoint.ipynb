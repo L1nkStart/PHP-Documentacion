{
    "cells": [
        {
            "cell_type": "markdown",
            "id": "c4f8e8b3-f2c7-4c6b-9c91-f3a5d2a1b2c3",
            "metadata": {},
            "source": [
                "# Documentación de PHP con Jupyter\n",
                "\n",
                "Este notebook demuestra cómo usar Jupyter para crear documentación interactiva de PHP.\n",
                "\n",
                "## 1. Introducción a PHP\n",
                "\n",
                "PHP es un lenguaje de programación de propósito general especialmente adecuado para el desarrollo web.\n"
            ]
        },
        {
            "cell_type": "code",
            "execution_count": null,
            "id": "d1a2b3c4-e5f6-7890-abcd-ef1234567890",
            "metadata": {},
            "outputs": [],
            "source": [
                "<?php\n",
                "echo \"¡Hola desde PHP en Jupyter!\\n\";\n",
                "echo \"Versión de PHP: \" . phpversion();"
            ]
        },
        {
            "cell_type": "markdown",
            "id": "b2c3d4e5-f6a7-8901-bcde-f23456789012",
            "metadata": {},
            "source": [
                "## 2. Variables en PHP\n",
                "\n",
                "En PHP, las variables comienzan con el símbolo `$` seguido del nombre de la variable.\n"
            ]
        },
        {
            "cell_type": "code",
            "execution_count": null,
            "id": "a3b4c5d6-e7f8-9012-cdef-345678901234",
            "metadata": {},
            "outputs": [],
            "source": [
                "<?php\n",
                "// Declaración de variables\n",
                "$nombre = \"Juan\";\n",
                "$edad = 25;\n",
                "$altura = 1.75;\n",
                "$esEstudiante = true;\n",
                "\n",
                "echo \"Nombre: $nombre\\n\";\n",
                "echo \"Edad: $edad años\\n\";\n",
                "echo \"Altura: $altura m\\n\";\n",
                "echo \"Es estudiante: \" . ($esEstudiante ? \"Sí\" : \"No\") . \"\\n\";"
            ]
        },
        {
            "cell_type": "markdown",
            "id": "c5d6e7f8-a9b0-1234-defg-456789012345",
            "metadata": {},
            "source": [
                "## 3. Arrays en PHP\n",
                "\n",
                "PHP soporta arrays indexados y asociativos.\n"
            ]
        },
        {
            "cell_type": "code",
            "execution_count": null,
            "id": "d6e7f8a9-b0c1-2345-efgh-567890123456",
            "metadata": {},
            "outputs": [],
            "source": [
                "<?php\n",
                "// Array indexado\n",
                "$frutas = [\"manzana\", \"banana\", \"naranja\", \"uva\"];\n",
                "\n",
                "echo \"Array de frutas:\\n\";\n",
                "foreach ($frutas as $index => $fruta) {\n",
                "    echo \"[$index] => $fruta\\n\";\n",
                "}\n",
                "\n",
                "// Array asociativo\n",
                "$persona = [\n",
                "    \"nombre\" => \"María\",\n",
                "    \"edad\" => 30,\n",
                "    \"ciudad\" => \"Madrid\"\n",
                "];\n",
                "\n",
                "echo \"\\nArray asociativo:\\n\";\n",
                "foreach ($persona as $clave => $valor) {\n",
                "    echo \"$clave => $valor\\n\";\n",
                "}"
            ]
        },
        {
            "cell_type": "markdown",
            "id": "e7f8a9b0-c1d2-3456-fghi-678901234567",
            "metadata": {},
            "source": [
                "## 4. Funciones en PHP\n",
                "\n",
                "Las funciones permiten reutilizar código y organizarlo mejor.\n"
            ]
        },
        {
            "cell_type": "code",
            "execution_count": null,
            "id": "f8a9b0c1-d2e3-4567-ghij-789012345678",
            "metadata": {},
            "outputs": [],
            "source": [
                "<?php\n",
                "// Función simple\n",
                "function saludar($nombre) {\n",
                "    return \"Hola, $nombre!\";\n",
                "}\n",
                "\n",
                "// Función con parámetros opcionales\n",
                "function calcularArea($largo, $ancho = 1) {\n",
                "    return $largo * $ancho;\n",
                "}\n",
                "\n",
                "// Usar las funciones\n",
                "echo saludar(\"Carlos\") . \"\\n\";\n",
                "echo \"Área cuadrado: \" . calcularArea(5) . \"\\n\";\n",
                "echo \"Área rectángulo: \" . calcularArea(5, 3) . \"\\n\";"
            ]
        },
        {
            "cell_type": "markdown",
            "id": "a9b0c1d2-e3f4-5678-hijk-890123456789",
            "metadata": {},
            "source": [
                "## 5. Clases y Objetos\n",
                "\n",
                "PHP soporta programación orientada a objetos con clases, herencia, interfaces, etc.\n"
            ]
        },
        {
            "cell_type": "code",
            "execution_count": null,
            "id": "b0c1d2e3-f4a5-6789-ijkl-901234567890",
            "metadata": {},
            "outputs": [],
            "source": [
                "<?php\n",
                "class Vehiculo {\n",
                "    protected $marca;\n",
                "    protected $modelo;\n",
                "    \n",
                "    public function __construct($marca, $modelo) {\n",
                "        $this->marca = $marca;\n",
                "        $this->modelo = $modelo;\n",
                "    }\n",
                "    \n",
                "    public function obtenerInfo() {\n",
                "        return \"$this->marca $this->modelo\";\n",
                "    }\n",
                "}\n",
                "\n",
                "class Coche extends Vehiculo {\n",
                "    private $puertas;\n",
                "    \n",
                "    public function __construct($marca, $modelo, $puertas = 4) {\n",
                "        parent::__construct($marca, $modelo);\n",
                "        $this->puertas = $puertas;\n",
                "    }\n",
                "    \n",
                "    public function obtenerInfo() {\n",
                "        return parent::obtenerInfo() . \" ({$this->puertas} puertas)\";\n",
                "    }\n",
                "}\n",
                "\n",
                "// Crear y usar objetos\n",
                "$miCoche = new Coche(\"Toyota\", \"Corolla\", 4);\n",
                "echo \"Mi coche: \" . $miCoche->obtenerInfo() . \"\\n\";\n",
                "\n",
                "$otroCoche = new Coche(\"BMW\", \"Serie 3\", 2);\n",
                "echo \"Otro coche: \" . $otroCoche->obtenerInfo() . \"\\n\";"
            ]
        },
        {
            "cell_type": "markdown",
            "id": "c1d2e3f4-a5b6-7890-jklm-012345678901",
            "metadata": {},
            "source": [
                "## 6. Manejo de Archivos\n",
                "\n",
                "PHP tiene excelente soporte para trabajar con archivos del sistema.\n"
            ]
        },
        {
            "cell_type": "code",
            "execution_count": null,
            "id": "d2e3f4a5-b6c7-8901-klmn-123456789012",
            "metadata": {},
            "outputs": [],
            "source": [
                "<?php\n",
                "// Crear un archivo temporal\n",
                "$archivo = \"ejemplo.txt\";\n",
                "$contenido = \"Este es un ejemplo de contenido\\nEscrito desde PHP en Jupyter\\n\";\n",
                "\n",
                "// Escribir al archivo\n",
                "file_put_contents($archivo, $contenido);\n",
                "echo \"Archivo '$archivo' creado.\\n\";\n",
                "\n",
                "// Leer el archivo\n",
                "if (file_exists($archivo)) {\n",
                "    $contenidoLeido = file_get_contents($archivo);\n",
                "    echo \"Contenido del archivo:\\n\";\n",
                "    echo $contenidoLeido;\n",
                "    \n",
                "    // Obtener información del archivo\n",
                "    $info = stat($archivo);\n",
                "    echo \"Tamaño del archivo: \" . $info['size'] . \" bytes\\n\";\n",
                "    \n",
                "    // Limpiar: eliminar el archivo\n",
                "    unlink($archivo);\n",
                "    echo \"Archivo eliminado.\\n\";\n",
                "}"
            ]
        },
        {
            "cell_type": "markdown",
            "id": "e3f4a5b6-c7d8-9012-lmno-234567890123",
            "metadata": {},
            "source": [
                "## 7. Trabajando con JSON\n",
                "\n",
                "PHP tiene funciones nativas para trabajar con JSON, muy útil para APIs y intercambio de datos.\n"
            ]
        },
        {
            "cell_type": "code",
            "execution_count": null,
            "id": "f4a5b6c7-d8e9-0123-mnop-345678901234",
            "metadata": {},
            "outputs": [],
            "source": [
                "<?php\n",
                "// Crear un array asociativo\n",
                "$datos = [\n",
                "    \"nombre\" => \"Ana García\",\n",
                "    \"edad\" => 28,\n",
                "    \"profesion\" => \"Desarrolladora\",\n",
                "    \"habilidades\" => [\"PHP\", \"JavaScript\", \"Python\", \"SQL\"],\n",
                "    \"experiencia\" => [\n",
                "        \"años\" => 5,\n",
                "        \"proyectos\" => 12\n",
                "    ]\n",
                "];\n",
                "\n",
                "// Convertir a JSON\n",
                "$json = json_encode($datos, JSON_PRETTY_PRINT | JSON_UNESCAPED_UNICODE);\n",
                "echo \"Datos en formato JSON:\\n\";\n",
                "echo $json . \"\\n\\n\";\n",
                "\n",
                "// Convertir de JSON a array PHP\n",
                "$datosDecodificados = json_decode($json, true);\n",
                "echo \"Nombre: \" . $datosDecodificados['nombre'] . \"\\n\";\n",
                "echo \"Habilidades: \" . implode(\", \", $datosDecodificados['habilidades']) . \"\\n\";"
            ]
        },
        {
            "cell_type": "markdown",
            "id": "a5b6c7d8-e9f0-1234-nopq-456789012345",
            "metadata": {},
            "source": [
                "## 8. Conclusión\n",
                "\n",
                "Este notebook demuestra cómo Jupyter puede ser usado para crear documentación interactiva de PHP. \n",
                "\n",
                "### Ventajas de usar Jupyter para documentación de PHP:\n",
                "\n",
                "- **Interactividad**: El código se puede ejecutar directamente\n",
                "- **Visualización**: Combina texto, código y resultados en un solo documento\n",
                "- **Compartir conocimiento**: Fácil de compartir y reproducir\n",
                "- **Prototipado rápido**: Ideal para experimentar con código PHP\n",
                "- **Educación**: Perfecto para tutoriales y material educativo\n",
                "\n",
                "### Próximos pasos:\n",
                "\n",
                "1. Explorar librerías PHP más avanzadas\n",
                "2. Integrar con bases de datos\n",
                "3. Crear ejemplos de desarrollo web\n",
                "4. Documentar APIs y frameworks\n"
            ]
        }
    ],
    "metadata": {
        "kernelspec": {
            "display_name": "PHP",
            "language": "php",
            "name": "php"
        },
        "language_info": {
            "codemirror_mode": "php",
            "file_extension": ".php",
            "mimetype": "text/x-php",
            "name": "php"
        }
    },
    "nbformat": 4,
    "nbformat_minor": 5
}